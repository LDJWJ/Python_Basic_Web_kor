{
 "cells": [
  {
   "cell_type": "markdown",
   "metadata": {},
   "source": [
    "## 셀레니움 알아보기\n",
    "### 학습 내용\n",
    "* (1) 웹 브라우저를 자동으로 띄워보기\n",
    "* (2) 웹 페이지에 접속해 보기\n",
    "* (3) id를 이용하여 웹 페이지 정보 가져오기\n",
    "* (4) 태그이름을 이용하여 접근\n",
    "* (5) name을 이용하여 접근\n",
    "* (6) 클래스 이름을 이용한 찾기\n",
    "* (7) selector를 이용한 접근\n",
    "* (8) 웹 제어(마우스 클릭, 텍스트 입력)\n",
    "* (9) 과제 실습해 보기(스타일 난다)\n",
    "\n",
    "### 01. 기본 함수\n",
    " * 참조 URL : https://selenium-python.readthedocs.io/locating-elements.html"
   ]
  },
  {
   "cell_type": "markdown",
   "metadata": {},
   "source": [
    "### 하나의 정보를 가져오기\n",
    "```\n",
    "find_element_by_id\n",
    "find_element_by_name\n",
    "find_element_by_xpath\n",
    "find_element_by_link_text\n",
    "find_element_by_partial_link_text\n",
    "find_element_by_tag_name\n",
    "find_element_by_class_name\n",
    "find_element_by_css_selector\n",
    "```\n",
    "### 여러개의 정보를 가져오기\n",
    "```\n",
    "find_elements_by_name\n",
    "find_elements_by_xpath\n",
    "find_elements_by_link_text\n",
    "find_elements_by_partial_link_text\n",
    "find_elements_by_tag_name\n",
    "find_elements_by_class_name\n",
    "find_elements_by_css_selector\n",
    "```"
   ]
  },
  {
   "cell_type": "markdown",
   "metadata": {},
   "source": [
    "## (1) 웹 브라우저를 자동으로 띄워보기"
   ]
  },
  {
   "cell_type": "code",
   "execution_count": 3,
   "metadata": {},
   "outputs": [],
   "source": [
    "from selenium import webdriver\n",
    "\n",
    "driver = webdriver.Chrome('chromedriver')"
   ]
  },
  {
   "cell_type": "markdown",
   "metadata": {},
   "source": [
    "<img src=\"../img/selenium01.png\">"
   ]
  },
  {
   "cell_type": "markdown",
   "metadata": {},
   "source": [
    "## (2) 웹 페이지에 접속해 보기\n",
    " * 웹 브라우저를 띄우고 정보를 수집하기 위한 사이트에 접속\n",
    " * get() 함수를 이용하면 사이트 접속이 가능\n",
    " * 사용법 : 객체명.get(url)  # 해당 url에 접속함."
   ]
  },
  {
   "cell_type": "code",
   "execution_count": 23,
   "metadata": {},
   "outputs": [],
   "source": [
    "from selenium import webdriver\n",
    "\n",
    "url = 'https://github.com/LDJWJ/Python_Basic_Web_kor'\n",
    "\n",
    "driver = webdriver.Chrome('chromedriver') # 빈 브라우저 띄움\n",
    "driver.get(url) # url 접속"
   ]
  },
  {
   "cell_type": "markdown",
   "metadata": {},
   "source": [
    "## (3) 일부 정보 id를 이용하여 가져오기\n",
    " * find_element_by_id(\"id명\")    => 한개의 정보\n",
    " * find_elements_by_id(\"id명\")   => 여러개의 정보"
   ]
  },
  {
   "cell_type": "code",
   "execution_count": 24,
   "metadata": {},
   "outputs": [
    {
     "name": "stdout",
     "output_type": "stream",
     "text": [
      "<selenium.webdriver.remote.webelement.WebElement (session=\"104122b70384ebeabf05f36c1293ebfb\", element=\"0.2010934300973095-1\")>\n",
      "div\n",
      "영역1_id01\n"
     ]
    }
   ],
   "source": [
    "# driver = webdriver.Chrome('chromedriver')\n",
    "# driver.get(url)\n",
    "\n",
    "selected_id_obj = driver.find_element_by_id('user-content-id01')\n",
    "print(selected_id_obj)\n",
    "print(selected_id_obj.tag_name)  # 해당 연결의 tag이름\n",
    "print(selected_id_obj.text)      # 해당 태그의 text정보"
   ]
  },
  {
   "cell_type": "markdown",
   "metadata": {},
   "source": [
    "<img src=\"../img/selenium04.png\">"
   ]
  },
  {
   "cell_type": "markdown",
   "metadata": {},
   "source": [
    "## (4) 태그이름을 이용하여 접근\n",
    " * find_element_by_tag_name(\"태그명\")     # 하나\n",
    " * find_elements_by_tag_name(\"태그명\")    # 여러개 "
   ]
  },
  {
   "cell_type": "markdown",
   "metadata": {},
   "source": [
    "<img src=\"../img/selenium05.png\">"
   ]
  },
  {
   "cell_type": "code",
   "execution_count": 25,
   "metadata": {},
   "outputs": [
    {
     "name": "stdout",
     "output_type": "stream",
     "text": [
      "<selenium.webdriver.remote.webelement.WebElement (session=\"104122b70384ebeabf05f36c1293ebfb\", element=\"0.2010934300973095-2\")>\n",
      "em\n",
      "No description, website, or topics provided.\n"
     ]
    }
   ],
   "source": [
    "selected_tag_em = driver.find_element_by_tag_name('em')  # 하나의 em 태그\n",
    "print(selected_tag_em)\n",
    "print(selected_tag_em.tag_name)   # 태그 이름\n",
    "print(selected_tag_em.text)       # 태그의 text 정보."
   ]
  },
  {
   "cell_type": "code",
   "execution_count": 28,
   "metadata": {},
   "outputs": [
    {
     "name": "stdout",
     "output_type": "stream",
     "text": [
      "a\n",
      "Skip to content\n",
      "Skip to content\n",
      "\n",
      "\n",
      "\n",
      "\n",
      "\n",
      "\n",
      "\n",
      "\n",
      "\n",
      "\n",
      "\n",
      "\n",
      "Enterprise\n",
      "\n",
      "\n",
      "\n",
      "\n",
      "\n",
      "\n",
      "\n",
      "\n",
      "\n",
      "Marketplace\n",
      "\n",
      "\n",
      "\n",
      "\n",
      "\n",
      "\n",
      "\n",
      "\n",
      "Sign in\n",
      "Sign up\n",
      "Watch\n",
      "1\n",
      "Star\n",
      "0\n",
      "Fork\n",
      "0\n",
      "LDJWJ\n",
      "Python_Basic_Web_kor\n",
      "Code\n",
      "Issues 0\n",
      "Pull requests 0\n",
      "Projects 0\n",
      "Insights\n",
      "Sign up\n",
      "4 commits\n",
      "1 branch\n",
      "0 releases\n",
      "1 contributor\n",
      "Find File\n",
      "\n",
      "\n",
      "\n",
      "\n",
      "\n",
      "\n",
      "\n",
      "\n",
      "\n",
      "\n",
      "LDJWJ\n",
      "Update README.md\n",
      "2e27bbf\n",
      "\n",
      "README.md\n",
      "Update README.md\n",
      "\n",
      "google 웹 페이지\n",
      "네이버 웹 페이지\n",
      "Terms\n",
      "Privacy\n",
      "Security\n",
      "Status\n",
      "Help\n",
      "\n",
      "Contact GitHub\n",
      "Pricing\n",
      "API\n",
      "Training\n",
      "Blog\n",
      "About\n",
      "\n",
      "\n"
     ]
    }
   ],
   "source": [
    "## 한번 a태그를 갖는 여러개의 정보를 가져와 보자.\n",
    "selected_tag_a = driver.find_elements_by_tag_name('a')  # 하나의 em 태그\n",
    "# print(selected_tag_a)\n",
    "print(selected_tag_a[0].tag_name)   # 태그 이름\n",
    "print(selected_tag_a[0].text)       # 태그의 text 정보.\n",
    "\n",
    "for multiobj in selected_tag_a:\n",
    "    if multiobj is not None:\n",
    "        print(multiobj.text)"
   ]
  },
  {
   "cell_type": "markdown",
   "metadata": {},
   "source": [
    "## (5) 태그의 속성 name의 값을 이용한 객체 접근\n",
    " * find_element_by_name(\"이름\")     # name의 속성값이 만족하는 하나의 값.\n",
    " * find_elements_by_name(\"이름\")    # name의 속성값을 만족하는 여러개의 값."
   ]
  },
  {
   "cell_type": "code",
   "execution_count": 34,
   "metadata": {},
   "outputs": [
    {
     "name": "stdout",
     "output_type": "stream",
     "text": [
      "<selenium.webdriver.remote.webelement.WebElement (session=\"83855d0f14e806b1bdb4b781e64a7ed6\", element=\"0.36230905429879834-1\")>\n",
      "tag_name :  input\n",
      "text :  \n",
      "tag_name :  input\n"
     ]
    }
   ],
   "source": [
    "#from selenium import webdriver\n",
    "#url = 'https://github.com/LDJWJ/Python_Basic_Web_kor'\n",
    "#driver = webdriver.Chrome('chromedriver') # 빈 브라우저 띄움\n",
    "#driver.get(url) # url 접속\n",
    "\n",
    "selected_name = driver.find_element_by_name('q')\n",
    "print(selected_name)     # WebElement 객체 확인\n",
    "print(\"tag_name : \", selected_name.tag_name)  # 태그 이름 확인 \n",
    "print(\"text : \", selected_name.text)  # 태그 이름 확인\n",
    "\n",
    "# find_elements_by_name 이용해 보기\n",
    "# name이 'q'인것이 하나이기에 길이가 1인 리스트가 반환됨.\n",
    "selected_names = driver.find_elements_by_name('q')\n",
    "print(\"tag_name : \", selected_names[0].tag_name)"
   ]
  },
  {
   "cell_type": "markdown",
   "metadata": {},
   "source": [
    "## (6) 클래스 이름을 이용한 찾기 \n",
    " * find_element_by_class_name과\n",
    " * find_elements_by_class_name"
   ]
  },
  {
   "cell_type": "code",
   "execution_count": 38,
   "metadata": {},
   "outputs": [
    {
     "name": "stdout",
     "output_type": "stream",
     "text": [
      "<selenium.webdriver.remote.webelement.WebElement (session=\"5acd821feb41c792176cdfab3b5a1dec\", element=\"0.8093239987727394-1\")>\n",
      "dd\n",
      "25,928.68211.22+0.82%\n",
      "상승\n"
     ]
    }
   ],
   "source": [
    "from selenium import webdriver\n",
    "url = 'https://finance.naver.com/world/'\n",
    "naver2 = webdriver.Chrome('chromedriver') # 빈 브라우저 띄움\n",
    "naver2.get(url) # url 접속\n",
    "\n",
    "# 하나만 가져오기\n",
    "selected_class = naver2.find_element_by_class_name('point_status')\n",
    "print(selected_class)\n",
    "print(selected_class.tag_name)\n",
    "print(selected_class.text)"
   ]
  },
  {
   "cell_type": "markdown",
   "metadata": {},
   "source": [
    "## (7) selector를 이용한 접근 \n",
    " * find_element_by_css_selector과\n",
    " * find_elements_by_css_selector"
   ]
  },
  {
   "cell_type": "markdown",
   "metadata": {},
   "source": [
    "## (8) 웹 제어하기\n",
    " * 마우스 제어\n",
    " * 키보드 제어\n",
    " * JavaScript 삽입"
   ]
  },
  {
   "cell_type": "markdown",
   "metadata": {},
   "source": [
    "### 8-1 마우스 제어\n",
    "* 뉴스를 선택해서 해당 페이지로 이동해 보기"
   ]
  },
  {
   "cell_type": "code",
   "execution_count": 41,
   "metadata": {},
   "outputs": [
    {
     "name": "stdout",
     "output_type": "stream",
     "text": [
      "strong\n",
      "외교안보라인 '미국行'…다시 돌아가는 비핵화 시계\n"
     ]
    }
   ],
   "source": [
    "from selenium import webdriver\n",
    "\n",
    "url = 'https://news.naver.com/'\n",
    "\n",
    "naver_news = webdriver.Chrome('chromedriver')\n",
    "naver_news.get(url)\n",
    "\n",
    "# //*[@id=\"text_today_main_news_801001\"]/li[1]/div/a/strong\n",
    "selected_selector = naver_news.find_element_by_xpath('//*[@id=\"text_today_main_news_801001\"]/li[1]/div/a/strong')\n",
    "print(selected_selector.tag_name)\n",
    "print(selected_selector.text)\n",
    "selected_selector.click()"
   ]
  },
  {
   "cell_type": "markdown",
   "metadata": {},
   "source": [
    "## 실습 1. 네이버 뉴스에서 원하는 기사를 검색 후, 해당 페이지로 이동하기(xpath 이용)"
   ]
  },
  {
   "cell_type": "markdown",
   "metadata": {},
   "source": [
    "### 8-2 네이버 뉴스에서 미세먼지를 검색해 보기\n",
    " * send_keys() 함수를 이용하여 검색어를 입력해 보기\n",
    " * click() 이용하여 검색 버튼 클릭"
   ]
  },
  {
   "cell_type": "code",
   "execution_count": 40,
   "metadata": {},
   "outputs": [],
   "source": [
    "from selenium import webdriver\n",
    "\n",
    "url = 'https://news.naver.com/'\n",
    "\n",
    "# //*[@id=\"lnb.searchForm\"]/fieldset/input[1]\n",
    "driver = webdriver.Chrome('chromedriver')\n",
    "driver.get(url)\n",
    "\n",
    "selected_xpath = driver.find_element_by_xpath('//*[@id=\"lnb.searchForm\"]/fieldset/input[1]')\n",
    "selected_xpath.send_keys('미세먼지')\n",
    "\n",
    "# //*[@id=\"lnb.searchForm\"]/fieldset/button/span\n",
    "selected_xpath = driver.find_element_by_xpath('//*[@id=\"lnb.searchForm\"]/fieldset/button/span')\n",
    "selected_xpath.click()"
   ]
  },
  {
   "cell_type": "markdown",
   "metadata": {},
   "source": [
    "## 실습 2. 네이버 뉴스에서 원하는 기사를 검색 후, 검색 버튼을 선택 후, 해당 페이지로 이동하기"
   ]
  },
  {
   "cell_type": "markdown",
   "metadata": {},
   "source": [
    "### 과제1.  스타일 난다\n",
    "* 스타일 난다에서 bag이라고 검색 후, 검색 제품 명을 가져오는 것을 수행해 보자.\n",
    "* 힌트 : soup = BeautifulSoup(driver.page_source, 'lxml')를 이용하여 소스를 가져온 후, 수행한다.\n",
    "* 나머지는 BS4와 for문을 이용한다.\n",
    "\n",
    "### 과제2.  로그인 해 보기\n",
    "* 나의 정보를 이용하여 내가 소속된 페이지의 로그인을 수행해 보기"
   ]
  },
  {
   "cell_type": "code",
   "execution_count": 42,
   "metadata": {},
   "outputs": [],
   "source": [
    "from selenium import webdriver\n",
    "from bs4 import BeautifulSoup\n",
    "import time\n",
    "import lxml\n",
    "\n",
    "url = 'http://stylenanda.com/product/search.html?banner_action=&keyword=bag'\n",
    "\n",
    "start = time.time()\n",
    "\n",
    "# //*[@id=\"sb-icon-search_\"]\n",
    "driver = webdriver.Chrome('chromedriver')\n",
    "driver.get(url)\n",
    "\n",
    "soup = BeautifulSoup(driver.page_source, 'lxml')\n",
    "soup1 = soup.find_all(\"div\", class_=\"name\")\n",
    "\n",
    "end = time.time() - start\n",
    "#print(soup1[1])\n"
   ]
  },
  {
   "cell_type": "code",
   "execution_count": 43,
   "metadata": {},
   "outputs": [
    {
     "name": "stdout",
     "output_type": "stream",
     "text": [
      "물먹플라워 오간자토트백\n",
      "스퀘어플랩 라운드레더백\n",
      "하이엔드포멀핏 크로커투웨이백\n",
      "라운디쉐입 모던조리 미니백\n",
      "레트로패브릭 스트랩멀티백\n",
      "스포티시크 파이톤무드 조리백\n",
      "레더라이닝 린넨스퀘어백\n",
      "에이프런 포켓웨이스트bag\n",
      "쿠튀르진주송이 포인트토트백\n",
      "데이미니미 코튼조리백\n",
      "멀티무드연출 데일리반달백 (+pouch)04월 08일부터 순차 배송가능!!\n",
      "배색로프핏 라이트조리백\n",
      "드롭투스트랩 반달집업백\n",
      "만점메이트 삼각숄더백\n",
      "모던스퀘어 퓨어코튼 토트백\n",
      "핸디컬러스냅 시크토트백 (현아 착용)\n"
     ]
    }
   ],
   "source": [
    "for items in soup1:\n",
    "    #print(items.find_all(\"span\"))\n",
    "    a = items.find_all(\"span\")[1]\n",
    "    print(a.text)"
   ]
  },
  {
   "cell_type": "code",
   "execution_count": null,
   "metadata": {},
   "outputs": [],
   "source": []
  }
 ],
 "metadata": {
  "kernelspec": {
   "display_name": "Python 3",
   "language": "python",
   "name": "python3"
  },
  "language_info": {
   "codemirror_mode": {
    "name": "ipython",
    "version": 3
   },
   "file_extension": ".py",
   "mimetype": "text/x-python",
   "name": "python",
   "nbconvert_exporter": "python",
   "pygments_lexer": "ipython3",
   "version": "3.6.5"
  }
 },
 "nbformat": 4,
 "nbformat_minor": 2
}
