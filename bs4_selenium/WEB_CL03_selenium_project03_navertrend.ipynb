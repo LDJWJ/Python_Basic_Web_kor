{
 "cells": [
  {
   "cell_type": "markdown",
   "metadata": {},
   "source": [
    "## 네이버 데이터 랩 키워드 트렌드 정보 가져오기\n",
    "* selenium을 이용한 동적 웹 페이지 띄우기\n",
    "* 데이터 랩 접속\n",
    "* 키워드 가져오기\n",
    "* pandas를 이용하여 데이터 프레임으로 만들기\n",
    "* excel 파일로 이를 내 컴퓨터에 저장하기"
   ]
  },
  {
   "cell_type": "code",
   "execution_count": 1,
   "metadata": {},
   "outputs": [],
   "source": [
    "# -*- coding: utf-8 -*-\n",
    "import os\n",
    "os.getcwd()\n",
    "\n",
    "from selenium import webdriver\n",
    "from bs4 import BeautifulSoup\n",
    "\n",
    "driver = webdriver.Chrome('chromedriver')\n",
    "\n",
    "## http://www.opinet.co.kr/searRgSelect.do 접속 \n",
    "driver.get('https://datalab.naver.com/keyword/realtimeList.naver')"
   ]
  },
  {
   "cell_type": "code",
   "execution_count": 3,
   "metadata": {},
   "outputs": [
    {
     "data": {
      "text/plain": [
       "6"
      ]
     },
     "execution_count": 3,
     "metadata": {},
     "output_type": "execute_result"
    }
   ],
   "source": [
    "soup = BeautifulSoup(driver.page_source, 'lxml')\n",
    "keyword = soup.find_all(\"ul\", class_ = \"rank_list v2\")\n",
    "li_part1 = keyword[0].find_all(\"li\", class_=\"list\")\n",
    "li_part2 = keyword[1].find_all(\"li\", class_=\"list\")\n",
    "li_part3 = keyword[2].find_all(\"li\", class_=\"list\")\n",
    "\n",
    "len(keyword)"
   ]
  },
  {
   "cell_type": "code",
   "execution_count": 4,
   "metadata": {},
   "outputs": [
    {
     "name": "stdout",
     "output_type": "stream",
     "text": [
      "['구잘', '김형준', '안젤리나 다닐로바', '어스아워', '조작된 도시', '미란다커', '국가비', '음악중심', '구잘 결혼', '안창환', '엽문3', '엽문', 'k리그', '아이템', '류진', '쇼음악중심', '어스 해석', '에버글로우', 'la다저스', '로버트 할리']\n",
      "['어스아워', '음악중심', 'k리그', '조작된 도시', '쇼음악중심', '티버드', '만우절', '어스 해석', '김형준', 'epl', 'ebsi 고등', 'n번째 연애', '왕대륙', '안젤리나 다닐로바', '취향저격 그녀', '아이폰 배경화면', '고등래퍼', '장난스런키스', '페북', '너를 싫어하는 방법']\n",
      "['구잘', '안젤리나 다닐로바', '김형준', '어스아워', '조작된 도시', '미란다커', '음악중심', '어스 해석', 'k리그', '쇼음악중심', '에이티브', '티버드', '아이템', '양산날씨', '국가비', '에버글로우', '김우림', '김해날씨', '대전 날씨', '엽문']\n"
     ]
    }
   ],
   "source": [
    "key_word1 = []\n",
    "key_word2 = []\n",
    "key_word3 = []\n",
    "for items in li_part1:\n",
    "    word = items.find(\"span\", class_=\"title\")\n",
    "    key_word1.append(word.text)\n",
    "\n",
    "for items in li_part2:\n",
    "    word = items.find(\"span\", class_=\"title\")\n",
    "    key_word2.append(word.text)\n",
    "\n",
    "for items in li_part3:\n",
    "    word = items.find(\"span\", class_=\"title\")\n",
    "    key_word3.append(word.text)\n",
    "    \n",
    "print(key_word1)\n",
    "print(key_word2)\n",
    "print(key_word3)"
   ]
  },
  {
   "cell_type": "code",
   "execution_count": 5,
   "metadata": {},
   "outputs": [],
   "source": [
    "dict_val = {\"전체연령대\":key_word1, \"10대\":key_word2, \"20대\":key_word3}"
   ]
  },
  {
   "cell_type": "code",
   "execution_count": 6,
   "metadata": {},
   "outputs": [
    {
     "data": {
      "text/html": [
       "<div>\n",
       "<style scoped>\n",
       "    .dataframe tbody tr th:only-of-type {\n",
       "        vertical-align: middle;\n",
       "    }\n",
       "\n",
       "    .dataframe tbody tr th {\n",
       "        vertical-align: top;\n",
       "    }\n",
       "\n",
       "    .dataframe thead th {\n",
       "        text-align: right;\n",
       "    }\n",
       "</style>\n",
       "<table border=\"1\" class=\"dataframe\">\n",
       "  <thead>\n",
       "    <tr style=\"text-align: right;\">\n",
       "      <th></th>\n",
       "      <th>전체연령대</th>\n",
       "      <th>10대</th>\n",
       "      <th>20대</th>\n",
       "    </tr>\n",
       "  </thead>\n",
       "  <tbody>\n",
       "    <tr>\n",
       "      <th>0</th>\n",
       "      <td>구잘</td>\n",
       "      <td>어스아워</td>\n",
       "      <td>구잘</td>\n",
       "    </tr>\n",
       "    <tr>\n",
       "      <th>1</th>\n",
       "      <td>김형준</td>\n",
       "      <td>음악중심</td>\n",
       "      <td>안젤리나 다닐로바</td>\n",
       "    </tr>\n",
       "    <tr>\n",
       "      <th>2</th>\n",
       "      <td>안젤리나 다닐로바</td>\n",
       "      <td>k리그</td>\n",
       "      <td>김형준</td>\n",
       "    </tr>\n",
       "    <tr>\n",
       "      <th>3</th>\n",
       "      <td>어스아워</td>\n",
       "      <td>조작된 도시</td>\n",
       "      <td>어스아워</td>\n",
       "    </tr>\n",
       "    <tr>\n",
       "      <th>4</th>\n",
       "      <td>조작된 도시</td>\n",
       "      <td>쇼음악중심</td>\n",
       "      <td>조작된 도시</td>\n",
       "    </tr>\n",
       "    <tr>\n",
       "      <th>5</th>\n",
       "      <td>미란다커</td>\n",
       "      <td>티버드</td>\n",
       "      <td>미란다커</td>\n",
       "    </tr>\n",
       "    <tr>\n",
       "      <th>6</th>\n",
       "      <td>국가비</td>\n",
       "      <td>만우절</td>\n",
       "      <td>음악중심</td>\n",
       "    </tr>\n",
       "    <tr>\n",
       "      <th>7</th>\n",
       "      <td>음악중심</td>\n",
       "      <td>어스 해석</td>\n",
       "      <td>어스 해석</td>\n",
       "    </tr>\n",
       "    <tr>\n",
       "      <th>8</th>\n",
       "      <td>구잘 결혼</td>\n",
       "      <td>김형준</td>\n",
       "      <td>k리그</td>\n",
       "    </tr>\n",
       "    <tr>\n",
       "      <th>9</th>\n",
       "      <td>안창환</td>\n",
       "      <td>epl</td>\n",
       "      <td>쇼음악중심</td>\n",
       "    </tr>\n",
       "    <tr>\n",
       "      <th>10</th>\n",
       "      <td>엽문3</td>\n",
       "      <td>ebsi 고등</td>\n",
       "      <td>에이티브</td>\n",
       "    </tr>\n",
       "    <tr>\n",
       "      <th>11</th>\n",
       "      <td>엽문</td>\n",
       "      <td>n번째 연애</td>\n",
       "      <td>티버드</td>\n",
       "    </tr>\n",
       "    <tr>\n",
       "      <th>12</th>\n",
       "      <td>k리그</td>\n",
       "      <td>왕대륙</td>\n",
       "      <td>아이템</td>\n",
       "    </tr>\n",
       "    <tr>\n",
       "      <th>13</th>\n",
       "      <td>아이템</td>\n",
       "      <td>안젤리나 다닐로바</td>\n",
       "      <td>양산날씨</td>\n",
       "    </tr>\n",
       "    <tr>\n",
       "      <th>14</th>\n",
       "      <td>류진</td>\n",
       "      <td>취향저격 그녀</td>\n",
       "      <td>국가비</td>\n",
       "    </tr>\n",
       "    <tr>\n",
       "      <th>15</th>\n",
       "      <td>쇼음악중심</td>\n",
       "      <td>아이폰 배경화면</td>\n",
       "      <td>에버글로우</td>\n",
       "    </tr>\n",
       "    <tr>\n",
       "      <th>16</th>\n",
       "      <td>어스 해석</td>\n",
       "      <td>고등래퍼</td>\n",
       "      <td>김우림</td>\n",
       "    </tr>\n",
       "    <tr>\n",
       "      <th>17</th>\n",
       "      <td>에버글로우</td>\n",
       "      <td>장난스런키스</td>\n",
       "      <td>김해날씨</td>\n",
       "    </tr>\n",
       "    <tr>\n",
       "      <th>18</th>\n",
       "      <td>la다저스</td>\n",
       "      <td>페북</td>\n",
       "      <td>대전 날씨</td>\n",
       "    </tr>\n",
       "    <tr>\n",
       "      <th>19</th>\n",
       "      <td>로버트 할리</td>\n",
       "      <td>너를 싫어하는 방법</td>\n",
       "      <td>엽문</td>\n",
       "    </tr>\n",
       "  </tbody>\n",
       "</table>\n",
       "</div>"
      ],
      "text/plain": [
       "        전체연령대         10대        20대\n",
       "0          구잘        어스아워         구잘\n",
       "1         김형준        음악중심  안젤리나 다닐로바\n",
       "2   안젤리나 다닐로바         k리그        김형준\n",
       "3        어스아워      조작된 도시       어스아워\n",
       "4      조작된 도시       쇼음악중심     조작된 도시\n",
       "5        미란다커         티버드       미란다커\n",
       "6         국가비         만우절       음악중심\n",
       "7        음악중심       어스 해석      어스 해석\n",
       "8       구잘 결혼         김형준        k리그\n",
       "9         안창환         epl      쇼음악중심\n",
       "10        엽문3     ebsi 고등       에이티브\n",
       "11         엽문      n번째 연애        티버드\n",
       "12        k리그         왕대륙        아이템\n",
       "13        아이템   안젤리나 다닐로바       양산날씨\n",
       "14         류진     취향저격 그녀        국가비\n",
       "15      쇼음악중심    아이폰 배경화면      에버글로우\n",
       "16      어스 해석        고등래퍼        김우림\n",
       "17      에버글로우      장난스런키스       김해날씨\n",
       "18      la다저스          페북      대전 날씨\n",
       "19     로버트 할리  너를 싫어하는 방법         엽문"
      ]
     },
     "execution_count": 6,
     "metadata": {},
     "output_type": "execute_result"
    }
   ],
   "source": [
    "import pandas as pd\n",
    "dat = pd.DataFrame(dict_val)\n",
    "dat"
   ]
  },
  {
   "cell_type": "markdown",
   "metadata": {},
   "source": [
    "<img src=\"../img/selenium07.png\">"
   ]
  },
  {
   "cell_type": "code",
   "execution_count": 8,
   "metadata": {},
   "outputs": [],
   "source": [
    "dat.to_excel(\"output.xlsx\", sheet_name='Sheet_name_1', index=False)"
   ]
  },
  {
   "cell_type": "markdown",
   "metadata": {},
   "source": [
    "## 과제1. 데이터 랩의 30대, 40대, 50대 연령별 키워드를 가져와 보자."
   ]
  },
  {
   "cell_type": "markdown",
   "metadata": {},
   "source": [
    "### Copyright 2019-LDJ(totofriend)"
   ]
  },
  {
   "cell_type": "code",
   "execution_count": null,
   "metadata": {},
   "outputs": [],
   "source": []
  }
 ],
 "metadata": {
  "kernelspec": {
   "display_name": "Python 3",
   "language": "python",
   "name": "python3"
  },
  "language_info": {
   "codemirror_mode": {
    "name": "ipython",
    "version": 3
   },
   "file_extension": ".py",
   "mimetype": "text/x-python",
   "name": "python",
   "nbconvert_exporter": "python",
   "pygments_lexer": "ipython3",
   "version": "3.6.5"
  }
 },
 "nbformat": 4,
 "nbformat_minor": 2
}
